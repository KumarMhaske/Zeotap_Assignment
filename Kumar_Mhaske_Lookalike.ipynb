{
  "nbformat": 4,
  "nbformat_minor": 0,
  "metadata": {
    "colab": {
      "provenance": []
    },
    "kernelspec": {
      "name": "python3",
      "display_name": "Python 3"
    },
    "language_info": {
      "name": "python"
    }
  },
  "cells": [
    {
      "cell_type": "markdown",
      "source": [
        "**Task 2: Lookalike Model**"
      ],
      "metadata": {
        "id": "3eOZ8EhuneAJ"
      }
    },
    {
      "cell_type": "code",
      "execution_count": 14,
      "metadata": {
        "id": "twXUzXB-nWAA"
      },
      "outputs": [],
      "source": [
        "import pandas as pd\n",
        "from sklearn.metrics.pairwise import cosine_similarity\n",
        "from sklearn.preprocessing import StandardScaler\n"
      ]
    },
    {
      "cell_type": "code",
      "source": [
        "# Load the datasets\n",
        "customers = pd.read_csv('Customers.csv')\n",
        "products = pd.read_csv('Products.csv')\n",
        "transactions = pd.read_csv('Transactions.csv')\n",
        "\n",
        "# Inspect the datasets\n",
        "print(\"Customers Data:\")\n",
        "print(customers.head())\n",
        "print(\"\\nProducts Data:\")\n",
        "print(products.head())\n",
        "print(\"\\nTransactions Data:\")\n",
        "print(transactions.head())\n"
      ],
      "metadata": {
        "colab": {
          "base_uri": "https://localhost:8080/"
        },
        "id": "a6IvM60En1Yq",
        "outputId": "ae0f4540-706f-437f-cd73-6d617633ec57"
      },
      "execution_count": 15,
      "outputs": [
        {
          "output_type": "stream",
          "name": "stdout",
          "text": [
            "Customers Data:\n",
            "  CustomerID        CustomerName         Region  SignupDate\n",
            "0      C0001    Lawrence Carroll  South America  2022-07-10\n",
            "1      C0002      Elizabeth Lutz           Asia  2022-02-13\n",
            "2      C0003      Michael Rivera  South America  2024-03-07\n",
            "3      C0004  Kathleen Rodriguez  South America  2022-10-09\n",
            "4      C0005         Laura Weber           Asia  2022-08-15\n",
            "\n",
            "Products Data:\n",
            "  ProductID              ProductName     Category   Price\n",
            "0      P001     ActiveWear Biography        Books  169.30\n",
            "1      P002    ActiveWear Smartwatch  Electronics  346.30\n",
            "2      P003  ComfortLiving Biography        Books   44.12\n",
            "3      P004            BookWorld Rug   Home Decor   95.69\n",
            "4      P005          TechPro T-Shirt     Clothing  429.31\n",
            "\n",
            "Transactions Data:\n",
            "  TransactionID CustomerID ProductID      TransactionDate  Quantity  \\\n",
            "0        T00001      C0199      P067  2024-08-25 12:38:23         1   \n",
            "1        T00112      C0146      P067  2024-05-27 22:23:54         1   \n",
            "2        T00166      C0127      P067  2024-04-25 07:38:55         1   \n",
            "3        T00272      C0087      P067  2024-03-26 22:55:37         2   \n",
            "4        T00363      C0070      P067  2024-03-21 15:10:10         3   \n",
            "\n",
            "   TotalValue   Price  \n",
            "0      300.68  300.68  \n",
            "1      300.68  300.68  \n",
            "2      300.68  300.68  \n",
            "3      601.36  300.68  \n",
            "4      902.04  300.68  \n"
          ]
        }
      ]
    },
    {
      "cell_type": "code",
      "source": [
        "# Merge the data to create a unified dataset\n",
        "merged_data = pd.merge(transactions, customers, on='CustomerID', how='left')\n",
        "merged_data = pd.merge(merged_data, products, on='ProductID', how='left')"
      ],
      "metadata": {
        "id": "KnVdVav7n8ro"
      },
      "execution_count": 16,
      "outputs": []
    },
    {
      "cell_type": "code",
      "source": [
        "# Check the merged data columns to identify the correct Price column\n",
        "print(\"\\nMerged Data Columns:\")\n",
        "print(merged_data.columns)"
      ],
      "metadata": {
        "colab": {
          "base_uri": "https://localhost:8080/"
        },
        "id": "1M-4mo-noDUn",
        "outputId": "a3ce93f3-e6d2-465e-b975-98d97845a3de"
      },
      "execution_count": 17,
      "outputs": [
        {
          "output_type": "stream",
          "name": "stdout",
          "text": [
            "\n",
            "Merged Data Columns:\n",
            "Index(['TransactionID', 'CustomerID', 'ProductID', 'TransactionDate',\n",
            "       'Quantity', 'TotalValue', 'Price_x', 'CustomerName', 'Region',\n",
            "       'SignupDate', 'ProductName', 'Category', 'Price_y'],\n",
            "      dtype='object')\n"
          ]
        }
      ]
    },
    {
      "cell_type": "code",
      "source": [
        "# Use 'Price_y' as it corresponds to the product price in the Products dataset\n",
        "merged_data['Price'] = merged_data['Price_y']"
      ],
      "metadata": {
        "id": "1yig3vDjoKVc"
      },
      "execution_count": 18,
      "outputs": []
    },
    {
      "cell_type": "code",
      "source": [
        "# Drop unnecessary columns like 'Price_x', 'Price_y' (from both Transactions and Products)\n",
        "merged_data = merged_data.drop(['Price_x', 'Price_y'], axis=1)\n"
      ],
      "metadata": {
        "id": "lbl7q2hTqLWB"
      },
      "execution_count": 19,
      "outputs": []
    },
    {
      "cell_type": "code",
      "source": [
        "# Aggregate the data to create customer profiles\n",
        "customer_features = merged_data.groupby('CustomerID').agg({\n",
        "    'Price': ['sum', 'mean'],\n",
        "    'Quantity': 'sum',\n",
        "    'Category': 'nunique',\n",
        "})"
      ],
      "metadata": {
        "id": "reKz_wn2qhMq"
      },
      "execution_count": 20,
      "outputs": []
    },
    {
      "cell_type": "code",
      "source": [
        "# Flatten the multi-level column headers\n",
        "customer_features.columns = ['_'.join(col).strip() for col in customer_features.columns.values]\n"
      ],
      "metadata": {
        "id": "sjKty8JLsJ_J"
      },
      "execution_count": 21,
      "outputs": []
    },
    {
      "cell_type": "code",
      "source": [
        "# Add demographic information (region, signup date)\n",
        "customer_demo = customers[['CustomerID', 'Region', 'SignupDate']]\n",
        "customer_features = customer_features.merge(customer_demo, on='CustomerID')"
      ],
      "metadata": {
        "id": "K7ZaVqwJsRN0"
      },
      "execution_count": 22,
      "outputs": []
    },
    {
      "cell_type": "code",
      "source": [
        "# Calculate the time since signup (in days)\n",
        "customer_features['SignupDays'] = (pd.to_datetime('today') - pd.to_datetime(customer_features['SignupDate'])).dt.days"
      ],
      "metadata": {
        "id": "8zWXRdR3sVLG"
      },
      "execution_count": 23,
      "outputs": []
    },
    {
      "cell_type": "code",
      "source": [
        "# Normalize the features (excluding CustomerID)\n",
        "features_to_scale = ['Price_sum', 'Quantity_sum', 'Category_nunique', 'SignupDays']\n",
        "scaler = StandardScaler()\n",
        "customer_features[features_to_scale] = scaler.fit_transform(customer_features[features_to_scale])\n"
      ],
      "metadata": {
        "id": "tbk8ssi-sZ_j"
      },
      "execution_count": 24,
      "outputs": []
    },
    {
      "cell_type": "code",
      "source": [
        "# Check the final customer feature set\n",
        "print(\"\\nCustomer Features After Normalization:\")\n",
        "print(customer_features.head())"
      ],
      "metadata": {
        "colab": {
          "base_uri": "https://localhost:8080/"
        },
        "id": "DFPHViwDsf5J",
        "outputId": "6479c3c0-e2a7-4721-c9cc-a0c9c6e227e6"
      },
      "execution_count": 25,
      "outputs": [
        {
          "output_type": "stream",
          "name": "stdout",
          "text": [
            "\n",
            "Customer Features After Normalization:\n",
            "  CustomerID  Price_sum  Price_mean  Quantity_sum  Category_nunique  \\\n",
            "0      C0001   0.033326  278.334000     -0.122033          0.160540   \n",
            "1      C0002  -0.806919  208.920000     -0.448000         -0.904377   \n",
            "2      C0003  -0.886789  195.707500      0.203934          0.160540   \n",
            "3      C0004   0.839461  240.636250      1.670787          0.160540   \n",
            "4      C0005  -0.747783  291.603333     -0.936951         -0.904377   \n",
            "\n",
            "          Region  SignupDate  SignupDays  \n",
            "0  South America  2022-07-10    1.148752  \n",
            "1           Asia  2022-02-13    1.600431  \n",
            "2  South America  2024-03-07   -0.713270  \n",
            "3  South America  2022-10-09    0.869141  \n",
            "4           Asia  2022-08-15    1.038137  \n"
          ]
        }
      ]
    },
    {
      "cell_type": "code",
      "source": [
        "# Calculate cosine similarity between customers based on their profiles\n",
        "customer_profile = customer_features[['Price_sum', 'Quantity_sum', 'Category_nunique', 'SignupDays']]"
      ],
      "metadata": {
        "id": "jTH-DlOdskuI"
      },
      "execution_count": 26,
      "outputs": []
    },
    {
      "cell_type": "code",
      "source": [
        "# Compute the cosine similarity matrix\n",
        "similarity_matrix = cosine_similarity(customer_profile)"
      ],
      "metadata": {
        "id": "Tx7WPrFKsqxX"
      },
      "execution_count": 27,
      "outputs": []
    },
    {
      "cell_type": "code",
      "source": [
        "# Convert the similarity matrix into a DataFrame for easy manipulation\n",
        "similarity_df = pd.DataFrame(similarity_matrix, index=customer_features.index, columns=customer_features.index)"
      ],
      "metadata": {
        "id": "JG39orGAst5I"
      },
      "execution_count": 28,
      "outputs": []
    },
    {
      "cell_type": "code",
      "source": [
        "# Get the top 3 lookalikes for the first 20 customers\n",
        "lookalikes = {}\n",
        "for customer_id in customer_features.index[:20]:\n",
        "    # Sort the similarity scores in descending order, excluding the customer itself\n",
        "    similar_customers = similarity_df[customer_id].drop(customer_id).sort_values(ascending=False).head(3)\n",
        "\n",
        "    # Store the top 3 lookalikes and their similarity scores\n",
        "    lookalikes[customer_id] = list(zip(similar_customers.index, similar_customers.values))\n"
      ],
      "metadata": {
        "id": "NSTBx-ORsypI"
      },
      "execution_count": 33,
      "outputs": []
    },
    {
      "cell_type": "code",
      "source": [
        "lookalike_data = []"
      ],
      "metadata": {
        "id": "_ryRZk0Ys533"
      },
      "execution_count": 35,
      "outputs": []
    },
    {
      "cell_type": "code",
      "source": [
        "# Iterate through the lookalikes dictionary and create the proper structure\n",
        "for customer_id, similar_customers in lookalikes.items():\n",
        "    # Unzip customer IDs and scores from the list of tuples\n",
        "    lookalike_ids, lookalike_scores = zip(*similar_customers)\n",
        "\n",
        "    # Create a row for each customer with their top 3 lookalikes and similarity scores\n",
        "    lookalike_data.append([customer_id] + list(lookalike_ids) + list(lookalike_scores))"
      ],
      "metadata": {
        "id": "yMy5jNI2s9W8"
      },
      "execution_count": 36,
      "outputs": []
    },
    {
      "cell_type": "code",
      "source": [
        "# Define the columns for the DataFrame\n",
        "columns = ['CustomerID', 'Lookalike_1', 'Lookalike_2', 'Lookalike_3', 'Score_1', 'Score_2', 'Score_3']"
      ],
      "metadata": {
        "id": "ShXRxK1NuFYt"
      },
      "execution_count": 37,
      "outputs": []
    },
    {
      "cell_type": "code",
      "source": [
        "# Create the DataFrame\n",
        "lookalike_df = pd.DataFrame(lookalike_data, columns=columns)"
      ],
      "metadata": {
        "id": "O4yjEmDxuH8x"
      },
      "execution_count": 38,
      "outputs": []
    },
    {
      "cell_type": "code",
      "source": [
        "# Save the result to a CSV file\n",
        "lookalike_df.to_csv('Lookalike.csv', index=False)"
      ],
      "metadata": {
        "id": "ARTmRC7guMR1"
      },
      "execution_count": 39,
      "outputs": []
    },
    {
      "cell_type": "code",
      "source": [
        "from google.colab import files\n",
        "\n",
        "# Download the Lookalike.csv file to your local system\n",
        "files.download('Lookalike.csv')\n"
      ],
      "metadata": {
        "colab": {
          "base_uri": "https://localhost:8080/",
          "height": 17
        },
        "id": "GrCpldfWxrpy",
        "outputId": "ee044d74-a141-4e60-9e35-f744f586c675"
      },
      "execution_count": 55,
      "outputs": [
        {
          "output_type": "display_data",
          "data": {
            "text/plain": [
              "<IPython.core.display.Javascript object>"
            ],
            "application/javascript": [
              "\n",
              "    async function download(id, filename, size) {\n",
              "      if (!google.colab.kernel.accessAllowed) {\n",
              "        return;\n",
              "      }\n",
              "      const div = document.createElement('div');\n",
              "      const label = document.createElement('label');\n",
              "      label.textContent = `Downloading \"${filename}\": `;\n",
              "      div.appendChild(label);\n",
              "      const progress = document.createElement('progress');\n",
              "      progress.max = size;\n",
              "      div.appendChild(progress);\n",
              "      document.body.appendChild(div);\n",
              "\n",
              "      const buffers = [];\n",
              "      let downloaded = 0;\n",
              "\n",
              "      const channel = await google.colab.kernel.comms.open(id);\n",
              "      // Send a message to notify the kernel that we're ready.\n",
              "      channel.send({})\n",
              "\n",
              "      for await (const message of channel.messages) {\n",
              "        // Send a message to notify the kernel that we're ready.\n",
              "        channel.send({})\n",
              "        if (message.buffers) {\n",
              "          for (const buffer of message.buffers) {\n",
              "            buffers.push(buffer);\n",
              "            downloaded += buffer.byteLength;\n",
              "            progress.value = downloaded;\n",
              "          }\n",
              "        }\n",
              "      }\n",
              "      const blob = new Blob(buffers, {type: 'application/binary'});\n",
              "      const a = document.createElement('a');\n",
              "      a.href = window.URL.createObjectURL(blob);\n",
              "      a.download = filename;\n",
              "      div.appendChild(a);\n",
              "      a.click();\n",
              "      div.remove();\n",
              "    }\n",
              "  "
            ]
          },
          "metadata": {}
        },
        {
          "output_type": "display_data",
          "data": {
            "text/plain": [
              "<IPython.core.display.Javascript object>"
            ],
            "application/javascript": [
              "download(\"download_514f09be-8d13-40e5-a78f-227578d6bcd6\", \"Lookalike.csv\", 1463)"
            ]
          },
          "metadata": {}
        }
      ]
    },
    {
      "cell_type": "code",
      "source": [
        "# Check the first few rows of the result\n",
        "print(\"\\nTop 3 Lookalikes for First 20 Customers:\")\n",
        "print(lookalike_df.head())"
      ],
      "metadata": {
        "colab": {
          "base_uri": "https://localhost:8080/"
        },
        "id": "cKA5iQ4suP9y",
        "outputId": "24f75e36-1571-43fb-9f05-9604c407fff4"
      },
      "execution_count": 40,
      "outputs": [
        {
          "output_type": "stream",
          "name": "stdout",
          "text": [
            "\n",
            "Top 3 Lookalikes for First 20 Customers:\n",
            "   CustomerID  Lookalike_1  Lookalike_2  Lookalike_3   Score_1   Score_2  \\\n",
            "0           0           78          151           10  0.998197  0.977191   \n",
            "1           1          175           69           72  0.969665  0.967985   \n",
            "2           2           29          110           30  0.941011  0.884952   \n",
            "3           3          164          147          108  0.980833  0.973796   \n",
            "4           4          130          158           82  0.993211  0.989701   \n",
            "\n",
            "    Score_3  \n",
            "0  0.967550  \n",
            "1  0.966898  \n",
            "2  0.817041  \n",
            "3  0.964495  \n",
            "4  0.987434  \n"
          ]
        }
      ]
    }
  ]
}